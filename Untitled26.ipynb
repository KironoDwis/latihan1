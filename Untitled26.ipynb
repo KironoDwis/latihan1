{
  "nbformat": 4,
  "nbformat_minor": 0,
  "metadata": {
    "colab": {
      "provenance": [],
      "include_colab_link": true
    },
    "kernelspec": {
      "name": "python3",
      "display_name": "Python 3"
    },
    "language_info": {
      "name": "python"
    }
  },
  "cells": [
    {
      "cell_type": "markdown",
      "metadata": {
        "id": "view-in-github",
        "colab_type": "text"
      },
      "source": [
        "<a href=\"https://colab.research.google.com/github/KironoDwis/latihan1/blob/main/Untitled26.ipynb\" target=\"_parent\"><img src=\"https://colab.research.google.com/assets/colab-badge.svg\" alt=\"Open In Colab\"/></a>"
      ]
    },
    {
      "cell_type": "markdown",
      "source": [
        "**IMPORTING MODULES**"
      ],
      "metadata": {
        "id": "sxTAYluU1fJD"
      }
    },
    {
      "cell_type": "code",
      "execution_count": null,
      "metadata": {
        "id": "xgiSz2hfPksa"
      },
      "outputs": [],
      "source": [
        "import os\n",
        "import sys\n",
        "import glob\n",
        "import matplotlib.pyplot as plt\n",
        "import numpy as np\n",
        "import pandas as pd\n",
        "import seaborn as sns\n",
        "from spacy.lang.en.stop_words import STOP_WORDS as stop_words\n",
        "from sklearn.feature_extraction.text import TfidfVectorizer\n",
        "from sklearn.decomposition import TruncatedSVD\n",
        "from sklearn.feature_extraction.text import CountVectorizer\n",
        "\n",
        "%matplotlib inline\n",
        "%precision 4\n",
        "plt.style.use('ggplot')\n",
        "pd.set_option(\"display.max_colwidth\", 200)"
      ]
    },
    {
      "cell_type": "markdown",
      "source": [
        "**LOADING DATA**"
      ],
      "metadata": {
        "id": "Ba9N62XYE6Xm"
      }
    },
    {
      "cell_type": "code",
      "source": [
        "from sklearn.datasets import fetch_20newsgroups\n",
        "dataset = fetch_20newsgroups(shuffle=True, random_state=1, remove=('headers', 'footers', 'quotes'))\n",
        "documents = dataset.data"
      ],
      "metadata": {
        "id": "FGu0OUaqPnAD"
      },
      "execution_count": null,
      "outputs": []
    },
    {
      "cell_type": "code",
      "source": [
        "documents[:4]"
      ],
      "metadata": {
        "colab": {
          "base_uri": "https://localhost:8080/"
        },
        "id": "yDD7z79CP8-7",
        "outputId": "0753a5ca-2c1b-4995-86c9-204496661b40"
      },
      "execution_count": null,
      "outputs": [
        {
          "output_type": "execute_result",
          "data": {
            "text/plain": [
              "[\"Well i'm not sure about the story nad it did seem biased. What\\nI disagree with is your statement that the U.S. Media is out to\\nruin Israels reputation. That is rediculous. The U.S. media is\\nthe most pro-israeli media in the world. Having lived in Europe\\nI realize that incidences such as the one described in the\\nletter have occured. The U.S. media as a whole seem to try to\\nignore them. The U.S. is subsidizing Israels existance and the\\nEuropeans are not (at least not to the same degree). So I think\\nthat might be a reason they report more clearly on the\\natrocities.\\n\\tWhat is a shame is that in Austria, daily reports of\\nthe inhuman acts commited by Israeli soldiers and the blessing\\nreceived from the Government makes some of the Holocaust guilt\\ngo away. After all, look how the Jews are treating other races\\nwhen they got power. It is unfortunate.\\n\",\n",
              " \"\\n\\n\\n\\n\\n\\n\\nYeah, do you expect people to read the FAQ, etc. and actually accept hard\\natheism?  No, you need a little leap of faith, Jimmy.  Your logic runs out\\nof steam!\\n\\n\\n\\n\\n\\n\\n\\nJim,\\n\\nSorry I can't pity you, Jim.  And I'm sorry that you have these feelings of\\ndenial about the faith you need to get by.  Oh well, just pretend that it will\\nall end happily ever after anyway.  Maybe if you start a new newsgroup,\\nalt.atheist.hard, you won't be bummin' so much?\\n\\n\\n\\n\\n\\n\\nBye-Bye, Big Jim.  Don't forget your Flintstone's Chewables!  :) \\n--\\nBake Timmons, III\",\n",
              " \"Although I realize that principle is not one of your strongest\\npoints, I would still like to know why do do not ask any question\\nof this sort about the Arab countries.\\n\\n   If you want to continue this think tank charade of yours, your\\nfixation on Israel must stop.  You might have to start asking the\\nsame sort of questions of Arab countries as well.  You realize it\\nwould not work, as the Arab countries' treatment of Jews over the\\nlast several decades is so bad that your fixation on Israel would\\nbegin to look like the biased attack that it is.\\n\\n   Everyone in this group recognizes that your stupid 'Center for\\nPolicy Research' is nothing more than a fancy name for some bigot\\nwho hates Israel.\",\n",
              " 'Notwithstanding all the legitimate fuss about this proposal, how much\\nof a change is it?  ATT\\'s last product in this area (a) was priced over\\n$1000, as I suspect \\'clipper\\' phones will be; (b) came to the customer \\nwith the key automatically preregistered with government authorities. Thus,\\naside from attempting to further legitimize and solidify the fed\\'s posture,\\nClipper seems to be \"more of the same\", rather than a new direction.\\n   Yes, technology will eventually drive the cost down and thereby promote\\nmore widespread use- but at present, the man on the street is not going\\nto purchase a $1000 crypto telephone, especially when the guy on the other\\nend probably doesn\\'t have one anyway.  Am I missing something?\\n   The real question is what the gov will do in a year or two when air-\\ntight voice privacy on a phone line is as close as your nearest pc.  That\\nhas got to a problematic scenario for them, even if the extent of usage\\nnever surpasses the \\'underground\\' stature of PGP.']"
            ]
          },
          "metadata": {},
          "execution_count": 3
        }
      ]
    },
    {
      "cell_type": "code",
      "source": [
        "print(\"Total Documents: \", len(documents))"
      ],
      "metadata": {
        "colab": {
          "base_uri": "https://localhost:8080/"
        },
        "id": "MrqrcAoZQl30",
        "outputId": "fe8e0382-b913-45d2-93a5-e36c9c98ec7b"
      },
      "execution_count": null,
      "outputs": [
        {
          "output_type": "stream",
          "name": "stdout",
          "text": [
            "Total Documents:  11314\n"
          ]
        }
      ]
    },
    {
      "cell_type": "code",
      "source": [
        "dataset.target_names\n"
      ],
      "metadata": {
        "colab": {
          "base_uri": "https://localhost:8080/"
        },
        "id": "lOq71URUQ7Vl",
        "outputId": "3f39dfce-d6e0-4add-a33e-98ab64da5fba"
      },
      "execution_count": null,
      "outputs": [
        {
          "output_type": "execute_result",
          "data": {
            "text/plain": [
              "['alt.atheism',\n",
              " 'comp.graphics',\n",
              " 'comp.os.ms-windows.misc',\n",
              " 'comp.sys.ibm.pc.hardware',\n",
              " 'comp.sys.mac.hardware',\n",
              " 'comp.windows.x',\n",
              " 'misc.forsale',\n",
              " 'rec.autos',\n",
              " 'rec.motorcycles',\n",
              " 'rec.sport.baseball',\n",
              " 'rec.sport.hockey',\n",
              " 'sci.crypt',\n",
              " 'sci.electronics',\n",
              " 'sci.med',\n",
              " 'sci.space',\n",
              " 'soc.religion.christian',\n",
              " 'talk.politics.guns',\n",
              " 'talk.politics.mideast',\n",
              " 'talk.politics.misc',\n",
              " 'talk.religion.misc']"
            ]
          },
          "metadata": {},
          "execution_count": 5
        }
      ]
    },
    {
      "cell_type": "markdown",
      "source": [
        "**PREPROCESSING**"
      ],
      "metadata": {
        "id": "aBBifrQgFqPR"
      }
    },
    {
      "cell_type": "code",
      "source": [
        "news_df = pd.DataFrame({'document':documents})\n",
        "news_df['clean_doc'] = news_df['document'].str.replace(\"[^a-zA-Z#]\", \" \")\n",
        "news_df['clean_doc'] = news_df['clean_doc'].apply(lambda x: ' '.join([w for w in x.split() if len(w)>3]))\n",
        "news_df['clean_doc'] = news_df['clean_doc'].apply(lambda x: x.lower())"
      ],
      "metadata": {
        "colab": {
          "base_uri": "https://localhost:8080/"
        },
        "id": "dqRQfpQ0REtI",
        "outputId": "4eea509e-d125-4f8c-f601-f16c0701fc7a"
      },
      "execution_count": null,
      "outputs": [
        {
          "output_type": "stream",
          "name": "stderr",
          "text": [
            "/usr/local/lib/python3.7/dist-packages/ipykernel_launcher.py:2: FutureWarning: The default value of regex will change from True to False in a future version.\n",
            "  \n"
          ]
        }
      ]
    },
    {
      "cell_type": "code",
      "source": [
        "tokenized_doc = news_df['clean_doc'].apply(lambda x: x.split())\n",
        "tokenized_doc = tokenized_doc.apply(lambda x: [item for item in x if item not in stop_words])\n",
        "detokenized_doc = []\n",
        "for i in range(len(news_df)):\n",
        "    t = ' '.join(tokenized_doc[i])\n",
        "    detokenized_doc.append(t)\n",
        "\n",
        "news_df['clean_doc'] = detokenized_doc"
      ],
      "metadata": {
        "id": "vpfB1Y_xTR5e"
      },
      "execution_count": null,
      "outputs": []
    },
    {
      "cell_type": "code",
      "source": [
        "vectorizer = TfidfVectorizer(stop_words='english', \n",
        "max_features= 1000,\n",
        "max_df = 0.5, \n",
        "smooth_idf=True)\n",
        "\n",
        "X = vectorizer.fit_transform(news_df['clean_doc'])\n",
        "X.shape"
      ],
      "metadata": {
        "colab": {
          "base_uri": "https://localhost:8080/"
        },
        "id": "ExXyzat-TX1L",
        "outputId": "78c403f8-f32c-441f-b282-34497308fe7a"
      },
      "execution_count": null,
      "outputs": [
        {
          "output_type": "execute_result",
          "data": {
            "text/plain": [
              "(11314, 1000)"
            ]
          },
          "metadata": {},
          "execution_count": 8
        }
      ]
    },
    {
      "cell_type": "markdown",
      "source": [
        "**TOPIC MODELLING**"
      ],
      "metadata": {
        "id": "CX2MU4ve1Thn"
      }
    },
    {
      "cell_type": "code",
      "source": [
        "svd_model = TruncatedSVD(n_components=15, algorithm='randomized', n_iter=100, random_state=122)\n",
        "\n",
        "svd_model.fit(X)\n",
        "\n",
        "len(svd_model.components_)"
      ],
      "metadata": {
        "colab": {
          "base_uri": "https://localhost:8080/"
        },
        "id": "4uWDzjfTiN0_",
        "outputId": "781369ac-65d4-49c4-93e0-eea74d74191c"
      },
      "execution_count": null,
      "outputs": [
        {
          "output_type": "execute_result",
          "data": {
            "text/plain": [
              "15"
            ]
          },
          "metadata": {},
          "execution_count": 9
        }
      ]
    },
    {
      "cell_type": "code",
      "source": [
        "terms = vectorizer.get_feature_names()\n",
        "\n",
        "for i, comp in enumerate(svd_model.components_):\n",
        "    terms_comp = zip(terms, comp)\n",
        "\n",
        "    sorted_terms = sorted(terms_comp, key= lambda x:x[1], reverse=True)[:5]\n",
        "    print(\"Topic \"+str(i)+\": \", end='', flush=True)\n",
        "\n",
        "    for t in sorted_terms:\n",
        "        print(t[0], end=' ', flush=True)\n",
        "    print(\" \")"
      ],
      "metadata": {
        "colab": {
          "base_uri": "https://localhost:8080/"
        },
        "id": "87f9eQTM3hit",
        "outputId": "a929e1c3-4318-49c2-d34c-8048a633639c"
      },
      "execution_count": null,
      "outputs": [
        {
          "output_type": "stream",
          "name": "stdout",
          "text": [
            "Topic 0: like know people think good  \n",
            "Topic 1: thanks windows card drive mail  \n",
            "Topic 2: game team year games season  \n",
            "Topic 3: drive scsi hard disk card  \n",
            "Topic 4: windows file window files program  \n",
            "Topic 5: government space chip mail information  \n",
            "Topic 6: like bike chip sounds know  \n",
            "Topic 7: card sale video monitor offer  \n",
            "Topic 8: know card chip video government  \n",
            "Topic 9: good know time bike problem  \n",
            "Topic 10: think good chip clipper need  \n",
            "Topic 11: thanks problem right bike good  \n",
            "Topic 12: good people windows know sale  \n",
            "Topic 13: space think know nasa "
          ]
        },
        {
          "output_type": "stream",
          "name": "stderr",
          "text": [
            "/usr/local/lib/python3.7/dist-packages/sklearn/utils/deprecation.py:87: FutureWarning: Function get_feature_names is deprecated; get_feature_names is deprecated in 1.0 and will be removed in 1.2. Please use get_feature_names_out instead.\n",
            "  warnings.warn(msg, category=FutureWarning)\n"
          ]
        },
        {
          "output_type": "stream",
          "name": "stdout",
          "text": [
            "problem  \n",
            "Topic 14: space good card thanks people  \n"
          ]
        }
      ]
    },
    {
      "cell_type": "code",
      "source": [
        "vsm = CountVectorizer(binary = False, lowercase=True, stop_words='english')\n",
        "A = vsm.fit_transform(terms)\n",
        "\n",
        "A.shape"
      ],
      "metadata": {
        "colab": {
          "base_uri": "https://localhost:8080/"
        },
        "id": "mF9yJsCyID_9",
        "outputId": "ecc48d9c-8483-4c0f-b1d8-db36e5a209b7"
      },
      "execution_count": null,
      "outputs": [
        {
          "output_type": "execute_result",
          "data": {
            "text/plain": [
              "(1000, 1000)"
            ]
          },
          "metadata": {},
          "execution_count": 19
        }
      ]
    },
    {
      "cell_type": "code",
      "source": [
        "type(A)"
      ],
      "metadata": {
        "colab": {
          "base_uri": "https://localhost:8080/"
        },
        "id": "N9G8pJGtIEPi",
        "outputId": "e9a5e7c5-1817-48e4-ea5d-32bdcc816ede"
      },
      "execution_count": null,
      "outputs": [
        {
          "output_type": "execute_result",
          "data": {
            "text/plain": [
              "scipy.sparse.csr.csr_matrix"
            ]
          },
          "metadata": {},
          "execution_count": 20
        }
      ]
    },
    {
      "cell_type": "code",
      "source": [
        "X.toarray()"
      ],
      "metadata": {
        "colab": {
          "base_uri": "https://localhost:8080/"
        },
        "id": "TMj_TLPolHoQ",
        "outputId": "e8d2b03d-ad53-412b-b41f-fa3fbfeea637"
      },
      "execution_count": null,
      "outputs": [
        {
          "output_type": "execute_result",
          "data": {
            "text/plain": [
              "array([[0.    , 0.    , 0.    , ..., 0.    , 0.    , 0.    ],\n",
              "       [0.    , 0.    , 0.2019, ..., 0.    , 0.    , 0.    ],\n",
              "       [0.    , 0.    , 0.    , ..., 0.    , 0.    , 0.    ],\n",
              "       ...,\n",
              "       [0.    , 0.    , 0.    , ..., 0.    , 0.    , 0.    ],\n",
              "       [0.    , 0.    , 0.    , ..., 0.    , 0.    , 0.    ],\n",
              "       [0.    , 0.    , 0.    , ..., 0.2321, 0.    , 0.    ]])"
            ]
          },
          "metadata": {},
          "execution_count": 21
        }
      ]
    },
    {
      "cell_type": "code",
      "source": [
        "print(str(vectorizer.vocabulary_)[:150])"
      ],
      "metadata": {
        "colab": {
          "base_uri": "https://localhost:8080/"
        },
        "id": "rtlDjVB9mFJf",
        "outputId": "6e40a1b9-7141-43d0-f9ba-88806de18650"
      },
      "execution_count": null,
      "outputs": [
        {
          "output_type": "stream",
          "name": "stdout",
          "text": [
            "{'sure': 870, 'story': 852, 'statement': 844, 'media': 534, 'israeli': 442, 'world': 985, 'having': 392, 'europe': 294, 'realize': 713, 'described': 2\n"
          ]
        }
      ]
    },
    {
      "cell_type": "code",
      "source": [
        "U, s, V = np.linalg.svd(X.toarray())\n",
        "print(\"ukuran-ukuran matriks = \",U.shape, s.shape, V.shape)\n",
        "print(s)"
      ],
      "metadata": {
        "colab": {
          "base_uri": "https://localhost:8080/"
        },
        "id": "qcm-wa7Fme_u",
        "outputId": "a06027cb-e177-4ab1-a0ab-9ee17da2f446"
      },
      "execution_count": null,
      "outputs": [
        {
          "output_type": "stream",
          "name": "stdout",
          "text": [
            "ukuran-ukuran matriks =  (11314, 11314) (1000,) (1000, 1000)\n",
            "[16.5153  9.9249  8.1962  7.9134  7.6131  7.3214  7.1523  6.9272  6.8798\n",
            "  6.7251  6.6224  6.5455  6.4935  6.3796  6.2235  6.174   6.0712  5.9728\n",
            "  5.9541  5.8926  5.8818  5.8763  5.79    5.7593  5.7185  5.6149  5.5911\n",
            "  5.5503  5.5383  5.5047  5.4897  5.4768  5.4373  5.4259  5.3978  5.3874\n",
            "  5.3621  5.3159  5.2778  5.2556  5.2455  5.2223  5.2036  5.1707  5.169\n",
            "  5.1515  5.1232  5.1171  5.0988  5.0833  5.0699  5.0414  5.018   5.0091\n",
            "  4.9973  4.9559  4.945   4.9321  4.9197  4.9111  4.9051  4.8979  4.8769\n",
            "  4.8535  4.8456  4.8353  4.8262  4.8212  4.799   4.7796  4.7742  4.7514\n",
            "  4.7402  4.7325  4.7266  4.7088  4.7032  4.6837  4.6809  4.6776  4.6646\n",
            "  4.6621  4.6505  4.6342  4.633   4.6236  4.6153  4.5949  4.5914  4.5774\n",
            "  4.5656  4.5573  4.5469  4.5406  4.5387  4.5326  4.521   4.5191  4.5045\n",
            "  4.4991  4.4876  4.4813  4.4675  4.465   4.4597  4.4483  4.4444  4.4275\n",
            "  4.42    4.4129  4.4048  4.3973  4.3964  4.388   4.3775  4.3658  4.3609\n",
            "  4.3539  4.3482  4.3354  4.3309  4.3204  4.3095  4.3061  4.301   4.2861\n",
            "  4.281   4.2768  4.2697  4.2597  4.2456  4.2437  4.2328  4.2272  4.2243\n",
            "  4.2203  4.2122  4.2053  4.198   4.1901  4.1858  4.1789  4.1746  4.1641\n",
            "  4.1611  4.1492  4.1389  4.1328  4.1236  4.119   4.1095  4.1072  4.1004\n",
            "  4.0939  4.0921  4.0874  4.0841  4.0747  4.0695  4.0632  4.0604  4.0495\n",
            "  4.0444  4.0337  4.0299  4.0237  4.0163  4.0114  4.0083  4.0023  3.9992\n",
            "  3.9901  3.9874  3.9835  3.9771  3.9699  3.9678  3.954   3.9525  3.9473\n",
            "  3.9432  3.9377  3.9354  3.9299  3.9263  3.9209  3.9201  3.911   3.9005\n",
            "  3.8955  3.8919  3.8857  3.8843  3.8752  3.8652  3.8624  3.861   3.858\n",
            "  3.8496  3.844   3.8421  3.836   3.8355  3.8266  3.8252  3.8205  3.8169\n",
            "  3.8121  3.8075  3.8013  3.8002  3.7943  3.788   3.7817  3.7771  3.775\n",
            "  3.7689  3.7638  3.7615  3.76    3.7553  3.7505  3.7449  3.7424  3.7377\n",
            "  3.7291  3.7276  3.7254  3.7163  3.7132  3.7097  3.7084  3.7022  3.6997\n",
            "  3.6922  3.6887  3.6818  3.6757  3.6733  3.6699  3.6665  3.6653  3.6605\n",
            "  3.6589  3.6497  3.6473  3.6462  3.6388  3.6368  3.6292  3.6277  3.6258\n",
            "  3.6154  3.6153  3.6079  3.6052  3.5992  3.5983  3.5937  3.5913  3.5853\n",
            "  3.583   3.5787  3.5722  3.5706  3.5669  3.5616  3.5597  3.5541  3.551\n",
            "  3.5494  3.5449  3.5404  3.5363  3.5303  3.5282  3.5259  3.5196  3.518\n",
            "  3.5155  3.5114  3.5092  3.5072  3.5033  3.4984  3.4921  3.4899  3.4882\n",
            "  3.485   3.4799  3.477   3.4764  3.467   3.4639  3.4609  3.4607  3.4566\n",
            "  3.4509  3.448   3.4432  3.4384  3.4344  3.4337  3.4303  3.427   3.419\n",
            "  3.4172  3.4136  3.4108  3.4086  3.4076  3.4044  3.4038  3.3995  3.3962\n",
            "  3.3924  3.3891  3.3852  3.3805  3.3754  3.3736  3.3726  3.3681  3.363\n",
            "  3.3627  3.3546  3.3531  3.3483  3.347   3.3404  3.339   3.3371  3.3348\n",
            "  3.3328  3.3304  3.3276  3.3251  3.3203  3.3184  3.3126  3.3113  3.3072\n",
            "  3.3039  3.3003  3.2986  3.2929  3.2889  3.2875  3.2837  3.282   3.2782\n",
            "  3.2745  3.2701  3.2653  3.2634  3.2615  3.2595  3.255   3.2536  3.2506\n",
            "  3.2462  3.2442  3.2422  3.2385  3.2337  3.2299  3.228   3.2265  3.2251\n",
            "  3.2171  3.2159  3.2139  3.2114  3.2007  3.2     3.1986  3.1974  3.1931\n",
            "  3.1893  3.1863  3.1827  3.1796  3.177   3.1763  3.1736  3.1692  3.1656\n",
            "  3.1648  3.1625  3.1616  3.16    3.1561  3.152   3.1487  3.1472  3.1437\n",
            "  3.1417  3.136   3.1346  3.1316  3.1265  3.1214  3.12    3.1189  3.1173\n",
            "  3.1144  3.113   3.1081  3.1067  3.1007  3.0972  3.0954  3.0904  3.0881\n",
            "  3.0848  3.0819  3.0799  3.0774  3.0757  3.0706  3.0694  3.0673  3.0641\n",
            "  3.062   3.059   3.054   3.0523  3.0516  3.0462  3.0448  3.0418  3.0409\n",
            "  3.0399  3.0338  3.0306  3.0296  3.0283  3.0263  3.0221  3.0177  3.0149\n",
            "  3.0127  3.0101  3.0092  3.0042  3.0019  3.0012  2.9962  2.9947  2.9912\n",
            "  2.9904  2.9877  2.9838  2.9818  2.9795  2.977   2.9744  2.9722  2.9694\n",
            "  2.9666  2.9654  2.9611  2.9587  2.9544  2.9517  2.9505  2.9444  2.9428\n",
            "  2.9393  2.9378  2.9363  2.9327  2.9308  2.9305  2.9266  2.9256  2.9213\n",
            "  2.9174  2.9123  2.9102  2.9076  2.9062  2.9032  2.9019  2.9003  2.8982\n",
            "  2.8953  2.8914  2.8901  2.8897  2.8851  2.8836  2.8799  2.8776  2.8761\n",
            "  2.8749  2.8722  2.8702  2.8669  2.8664  2.8606  2.8585  2.8559  2.8539\n",
            "  2.8514  2.8488  2.8463  2.8442  2.8439  2.8395  2.8368  2.8357  2.8323\n",
            "  2.8306  2.8289  2.8252  2.823   2.8223  2.8187  2.8163  2.8158  2.8114\n",
            "  2.8089  2.8047  2.804   2.8016  2.7985  2.797   2.7909  2.7898  2.7885\n",
            "  2.7863  2.7832  2.7808  2.7805  2.7753  2.7742  2.7708  2.7685  2.7673\n",
            "  2.7664  2.7651  2.7613  2.7607  2.7558  2.7549  2.7507  2.7483  2.7469\n",
            "  2.7463  2.7419  2.739   2.7378  2.7363  2.7322  2.7314  2.7268  2.7244\n",
            "  2.7236  2.7207  2.7202  2.7174  2.7141  2.7129  2.7113  2.7076  2.705\n",
            "  2.7027  2.7005  2.6986  2.6965  2.6921  2.6905  2.688   2.6875  2.686\n",
            "  2.6837  2.6787  2.6773  2.6757  2.6735  2.6725  2.6686  2.666   2.6649\n",
            "  2.6611  2.6575  2.6568  2.6544  2.6524  2.6514  2.6484  2.6471  2.6456\n",
            "  2.6434  2.6396  2.6371  2.6342  2.6298  2.6288  2.6285  2.6251  2.6238\n",
            "  2.6228  2.6201  2.6158  2.6145  2.6137  2.6111  2.6088  2.6066  2.6056\n",
            "  2.6035  2.6025  2.598   2.5978  2.5959  2.5939  2.5892  2.5889  2.5871\n",
            "  2.5842  2.5833  2.5803  2.578   2.5751  2.5734  2.5726  2.5693  2.5683\n",
            "  2.565   2.564   2.5604  2.5593  2.5537  2.5533  2.552   2.5491  2.5484\n",
            "  2.5472  2.5436  2.5416  2.5397  2.5387  2.5372  2.5353  2.534   2.5299\n",
            "  2.5254  2.5248  2.5207  2.5185  2.5178  2.5166  2.5129  2.5105  2.5093\n",
            "  2.5065  2.5051  2.5025  2.4997  2.4991  2.4959  2.4958  2.4932  2.4908\n",
            "  2.4888  2.4858  2.4827  2.4807  2.4805  2.4786  2.4757  2.4727  2.469\n",
            "  2.4669  2.4642  2.4627  2.4603  2.4577  2.4565  2.4563  2.4519  2.4496\n",
            "  2.4484  2.4436  2.4424  2.4389  2.4372  2.4359  2.4318  2.4303  2.4297\n",
            "  2.4262  2.4252  2.4241  2.418   2.4179  2.4174  2.4145  2.4137  2.4103\n",
            "  2.4086  2.4049  2.4046  2.4033  2.4013  2.3979  2.3956  2.3951  2.3937\n",
            "  2.3897  2.3884  2.385   2.3825  2.3792  2.3748  2.3733  2.3687  2.3676\n",
            "  2.3646  2.3633  2.3615  2.3584  2.3569  2.3512  2.3508  2.3494  2.3481\n",
            "  2.3464  2.3442  2.3418  2.3361  2.3343  2.3322  2.3307  2.3287  2.3252\n",
            "  2.3233  2.3219  2.3195  2.3173  2.3156  2.3146  2.3131  2.3119  2.3108\n",
            "  2.3073  2.303   2.2998  2.2979  2.2955  2.2924  2.2892  2.2887  2.2878\n",
            "  2.2862  2.2827  2.2805  2.2801  2.2782  2.2763  2.2728  2.2696  2.2677\n",
            "  2.2627  2.2614  2.2611  2.2581  2.2552  2.2531  2.2518  2.2482  2.2456\n",
            "  2.2437  2.2427  2.2392  2.2359  2.2344  2.2332  2.2303  2.2289  2.2273\n",
            "  2.224   2.2219  2.2209  2.2194  2.2158  2.211   2.2108  2.2083  2.206\n",
            "  2.2039  2.202   2.2001  2.1995  2.1957  2.1941  2.1908  2.1864  2.1853\n",
            "  2.184   2.1817  2.1807  2.1771  2.1742  2.1718  2.1677  2.1655  2.1634\n",
            "  2.1626  2.1598  2.1579  2.1553  2.1534  2.1516  2.1471  2.1455  2.142\n",
            "  2.14    2.1385  2.1356  2.1338  2.1314  2.1306  2.1288  2.1228  2.1206\n",
            "  2.1193  2.1178  2.1164  2.1135  2.1097  2.1091  2.1061  2.1037  2.1015\n",
            "  2.0977  2.0963  2.0925  2.0905  2.0849  2.0843  2.0819  2.0781  2.0751\n",
            "  2.0729  2.072   2.0682  2.0676  2.064   2.0583  2.0556  2.0539  2.0529\n",
            "  2.0484  2.0467  2.0454  2.0424  2.0393  2.0382  2.0337  2.0312  2.0288\n",
            "  2.0273  2.0248  2.0202  2.0186  2.0156  2.0107  2.0084  2.0065  2.0038\n",
            "  2.0033  2.      1.9968  1.9921  1.9906  1.9881  1.9857  1.9789  1.9784\n",
            "  1.9748  1.9731  1.9725  1.97    1.9668  1.9655  1.9625  1.9603  1.9571\n",
            "  1.9535  1.9516  1.9491  1.9447  1.9423  1.941   1.9394  1.9367  1.9336\n",
            "  1.9309  1.9258  1.923   1.919   1.9171  1.9151  1.9125  1.9113  1.9073\n",
            "  1.9025  1.9019  1.9005  1.8964  1.8943  1.891   1.8853  1.8847  1.8823\n",
            "  1.8773  1.8736  1.8694  1.8673  1.8612  1.8592  1.8541  1.853   1.8508\n",
            "  1.8481  1.8423  1.8382  1.8366  1.835   1.832   1.8295  1.8218  1.8205\n",
            "  1.8157  1.812   1.8081  1.8037  1.8001  1.7973  1.7964  1.7929  1.7907\n",
            "  1.7845  1.7808  1.7782  1.7731  1.7707  1.7635  1.7593  1.755   1.7495\n",
            "  1.7427  1.7378  1.7351  1.7323  1.7275  1.7219  1.7192  1.7134  1.7053\n",
            "  1.7032  1.6999  1.6971  1.6906  1.6877  1.6809  1.6764  1.6737  1.6687\n",
            "  1.6642  1.6606  1.6529  1.6439  1.6372  1.6271  1.6256  1.6155  1.6116\n",
            "  1.6006  1.5924  1.5827  1.5768  1.573   1.5622  1.544   1.538   1.5132\n",
            "  1.5075  1.4997  1.485   1.462   1.4388  1.4271  1.4049  1.4008  1.213\n",
            "  1.1436]\n"
          ]
        }
      ]
    },
    {
      "cell_type": "code",
      "source": [
        "x_kata = V[0,:]\n",
        "y_kata = V[1,:] \n",
        "print(vsm.vocabulary_)"
      ],
      "metadata": {
        "colab": {
          "base_uri": "https://localhost:8080/"
        },
        "id": "N4PRRkj8m97Q",
        "outputId": "faf732ec-5050-4bed-a42b-44d0c559eec1"
      },
      "execution_count": null,
      "outputs": [
        {
          "output_type": "stream",
          "name": "stdout",
          "text": [
            "{'ability': 0, 'able': 1, 'accept': 2, 'access': 3, 'according': 4, 'account': 5, 'action': 6, 'actions': 7, 'actual': 8, 'actually': 9, 'added': 10, 'addition': 11, 'additional': 12, 'address': 13, 'administration': 14, 'advance': 15, 'advice': 16, 'agencies': 17, 'agree': 18, 'algorithm': 19, 'allow': 20, 'allowed': 21, 'allows': 22, 'amendment': 23, 'america': 24, 'american': 25, 'americans': 26, 'analysis': 27, 'angeles': 28, 'anonymous': 29, 'answer': 30, 'answers': 31, 'anti': 32, 'anybody': 33, 'apparently': 34, 'appear': 35, 'appears': 36, 'apple': 37, 'application': 38, 'applications': 39, 'apply': 40, 'appreciate': 41, 'appreciated': 42, 'approach': 43, 'appropriate': 44, 'april': 45, 'arab': 46, 'archive': 47, 'area': 48, 'areas': 49, 'aren': 50, 'argument': 51, 'arguments': 52, 'armenia': 53, 'armenian': 54, 'armenians': 55, 'arms': 56, 'army': 57, 'article': 58, 'articles': 59, 'asked': 60, 'asking': 61, 'assume': 62, 'assuming': 63, 'atheism': 64, 'atheists': 65, 'attack': 66, 'attempt': 67, 'author': 68, 'authority': 69, 'available': 70, 'average': 71, 'avoid': 72, 'away': 73, 'background': 74, 'base': 75, 'baseball': 76, 'based': 77, 'basic': 78, 'basically': 79, 'basis': 80, 'begin': 81, 'beginning': 82, 'belief': 83, 'beliefs': 84, 'believe': 85, 'best': 86, 'better': 87, 'bible': 88, 'bike': 89, 'bios': 90, 'bits': 91, 'black': 92, 'block': 93, 'blood': 94, 'blue': 95, 'board': 96, 'body': 97, 'book': 98, 'books': 99, 'boston': 100, 'bought': 101, 'break': 102, 'bring': 103, 'brought': 104, 'build': 105, 'building': 106, 'built': 107, 'business': 108, 'cable': 109, 'california': 110, 'called': 111, 'calling': 112, 'calls': 113, 'came': 114, 'canada': 115, 'card': 116, 'cards': 117, 'care': 118, 'carry': 119, 'cars': 120, 'case': 121, 'cases': 122, 'cause': 123, 'center': 124, 'certain': 125, 'certainly': 126, 'chance': 127, 'change': 128, 'changed': 129, 'changes': 130, 'char': 131, 'character': 132, 'cheap': 133, 'check': 134, 'chicago': 135, 'child': 136, 'children': 137, 'chip': 138, 'chips': 139, 'choice': 140, 'choose': 141, 'christ': 142, 'christian': 143, 'christianity': 144, 'christians': 145, 'church': 146, 'citizens': 147, 'city': 148, 'civil': 149, 'claim': 150, 'claims': 151, 'class': 152, 'clear': 153, 'clearly': 154, 'clinton': 155, 'clipper': 156, 'clock': 157, 'close': 158, 'code': 159, 'color': 160, 'colorado': 161, 'colors': 162, 'come': 163, 'comes': 164, 'coming': 165, 'command': 166, 'comment': 167, 'comments': 168, 'commercial': 169, 'committee': 170, 'common': 171, 'communications': 172, 'community': 173, 'comp': 174, 'companies': 175, 'company': 176, 'compatible': 177, 'complete': 178, 'completely': 179, 'computer': 180, 'conclusion': 181, 'condition': 182, 'conference': 183, 'congress': 184, 'consider': 185, 'considered': 186, 'considering': 187, 'contact': 188, 'contains': 189, 'context': 190, 'continue': 191, 'contrib': 192, 'control': 193, 'controller': 194, 'convert': 195, 'copies': 196, 'copy': 197, 'correct': 198, 'cost': 199, 'costs': 200, 'couldn': 201, 'count': 202, 'countries': 203, 'country': 204, 'couple': 205, 'course': 206, 'court': 207, 'cover': 208, 'create': 209, 'created': 210, 'crime': 211, 'criminals': 212, 'cross': 213, 'current': 214, 'currently': 215, 'data': 216, 'date': 217, 'dave': 218, 'david': 219, 'days': 220, 'dead': 221, 'deal': 222, 'death': 223, 'decided': 224, 'decision': 225, 'default': 226, 'defense': 227, 'define': 228, 'deleted': 229, 'department': 230, 'described': 231, 'description': 232, 'design': 233, 'designed': 234, 'details': 235, 'detroit': 236, 'developed': 237, 'development': 238, 'device': 239, 'devices': 240, 'didn': 241, 'died': 242, 'difference': 243, 'different': 244, 'difficult': 245, 'digital': 246, 'direct': 247, 'directly': 248, 'directory': 249, 'discussion': 250, 'disease': 251, 'disk': 252, 'disks': 253, 'display': 254, 'distribution': 255, 'division': 256, 'doctor': 257, 'doesn': 258, 'door': 259, 'double': 260, 'doubt': 261, 'draw': 262, 'drive': 263, 'driver': 264, 'drivers': 265, 'drives': 266, 'driving': 267, 'drug': 268, 'drugs': 269, 'earlier': 270, 'early': 271, 'earth': 272, 'easily': 273, 'east': 274, 'easy': 275, 'education': 276, 'effect': 277, 'effective': 278, 'effort': 279, 'electronic': 280, 'email': 281, 'encryption': 282, 'energy': 283, 'enforcement': 284, 'engine': 285, 'entire': 286, 'entry': 287, 'environment': 288, 'equipment': 289, 'error': 290, 'errors': 291, 'escrow': 292, 'especially': 293, 'europe': 294, 'event': 295, 'events': 296, 'evidence': 297, 'exactly': 298, 'example': 299, 'excellent': 300, 'exist': 301, 'existence': 302, 'exists': 303, 'expect': 304, 'expected': 305, 'expensive': 306, 'experience': 307, 'explain': 308, 'export': 309, 'extra': 310, 'face': 311, 'fact': 312, 'fairly': 313, 'faith': 314, 'fall': 315, 'false': 316, 'family': 317, 'fast': 318, 'faster': 319, 'father': 320, 'features': 321, 'federal': 322, 'feel': 323, 'field': 324, 'figure': 325, 'file': 326, 'files': 327, 'final': 328, 'finally': 329, 'fine': 330, 'firearms': 331, 'floppy': 332, 'folks': 333, 'follow': 334, 'following': 335, 'font': 336, 'fonts': 337, 'food': 338, 'force': 339, 'forget': 340, 'form': 341, 'format': 342, 'forward': 343, 'free': 344, 'freedom': 345, 'friend': 346, 'friends': 347, 'fully': 348, 'function': 349, 'functions': 350, 'future': 351, 'game': 352, 'games': 353, 'gave': 354, 'general': 355, 'generally': 356, 'genocide': 357, 'germany': 358, 'gets': 359, 'getting': 360, 'given': 361, 'gives': 362, 'giving': 363, 'goal': 364, 'goals': 365, 'goes': 366, 'going': 367, 'gone': 368, 'good': 369, 'government': 370, 'graphics': 371, 'great': 372, 'greatly': 373, 'greek': 374, 'ground': 375, 'group': 376, 'groups': 377, 'guess': 378, 'guns': 379, 'guys': 380, 'half': 381, 'hand': 382, 'handle': 383, 'hands': 384, 'happen': 385, 'happened': 386, 'happens': 387, 'happy': 388, 'hard': 389, 'hardware': 390, 'haven': 391, 'having': 392, 'head': 393, 'health': 394, 'hear': 395, 'heard': 396, 'held': 397, 'hell': 398, 'hello': 399, 'help': 400, 'high': 401, 'higher': 402, 'history': 403, 'hockey': 404, 'hold': 405, 'holy': 406, 'home': 407, 'hope': 408, 'hours': 409, 'house': 410, 'human': 411, 'idea': 412, 'ideas': 413, 'image': 414, 'images': 415, 'imagine': 416, 'important': 417, 'include': 418, 'included': 419, 'includes': 420, 'including': 421, 'increase': 422, 'independent': 423, 'individual': 424, 'info': 425, 'information': 426, 'input': 427, 'inside': 428, 'installed': 429, 'instead': 430, 'institute': 431, 'insurance': 432, 'intended': 433, 'interested': 434, 'interesting': 435, 'interface': 436, 'internal': 437, 'international': 438, 'internet': 439, 'involved': 440, 'israel': 441, 'israeli': 442, 'issue': 443, 'issues': 444, 'james': 445, 'jesus': 446, 'jewish': 447, 'jews': 448, 'jobs': 449, 'john': 450, 'jpeg': 451, 'kept': 452, 'keyboard': 453, 'keys': 454, 'kill': 455, 'killed': 456, 'killing': 457, 'kind': 458, 'king': 459, 'knew': 460, 'know': 461, 'knowledge': 462, 'known': 463, 'knows': 464, 'lack': 465, 'land': 466, 'language': 467, 'large': 468, 'late': 469, 'later': 470, 'latest': 471, 'launch': 472, 'laws': 473, 'lead': 474, 'league': 475, 'learn': 476, 'leave': 477, 'left': 478, 'legal': 479, 'letter': 480, 'level': 481, 'library': 482, 'license': 483, 'life': 484, 'light': 485, 'like': 486, 'likely': 487, 'limited': 488, 'line': 489, 'lines': 490, 'list': 491, 'little': 492, 'live': 493, 'lives': 494, 'living': 495, 'local': 496, 'logic': 497, 'long': 498, 'longer': 499, 'look': 500, 'looked': 501, 'looking': 502, 'looks': 503, 'lord': 504, 'lost': 505, 'lots': 506, 'love': 507, 'lower': 508, 'lunar': 509, 'machine': 510, 'machines': 511, 'magazine': 512, 'mail': 513, 'mailing': 514, 'main': 515, 'major': 516, 'majority': 517, 'makes': 518, 'making': 519, 'manager': 520, 'manual': 521, 'march': 522, 'mark': 523, 'market': 524, 'mass': 525, 'master': 526, 'material': 527, 'matter': 528, 'matthew': 529, 'maybe': 530, 'mean': 531, 'meaning': 532, 'means': 533, 'media': 534, 'medical': 535, 'member': 536, 'members': 537, 'memory': 538, 'mention': 539, 'mentioned': 540, 'message': 541, 'messages': 542, 'method': 543, 'michael': 544, 'middle': 545, 'mike': 546, 'miles': 547, 'military': 548, 'million': 549, 'mind': 550, 'minutes': 551, 'misc': 552, 'mission': 553, 'mode': 554, 'model': 555, 'models': 556, 'modem': 557, 'modern': 558, 'money': 559, 'monitor': 560, 'month': 561, 'months': 562, 'moon': 563, 'moral': 564, 'morning': 565, 'mother': 566, 'motif': 567, 'mouse': 568, 'multi': 569, 'multiple': 570, 'muslim': 571, 'names': 572, 'nasa': 573, 'national': 574, 'natural': 575, 'nature': 576, 'near': 577, 'necessary': 578, 'need': 579, 'needed': 580, 'needs': 581, 'network': 582, 'news': 583, 'newsgroup': 584, 'nice': 585, 'night': 586, 'normal': 587, 'north': 588, 'note': 589, 'nuclear': 590, 'null': 591, 'number': 592, 'numbers': 593, 'object': 594, 'objective': 595, 'obvious': 596, 'obviously': 597, 'offer': 598, 'offers': 599, 'office': 600, 'official': 601, 'ones': 602, 'open': 603, 'operation': 604, 'opinion': 605, 'opinions': 606, 'option': 607, 'options': 608, 'orbit': 609, 'order': 610, 'organization': 611, 'original': 612, 'output': 613, 'outside': 614, 'package': 615, 'page': 616, 'paid': 617, 'pain': 618, 'paper': 619, 'particular': 620, 'particularly': 621, 'parts': 622, 'party': 623, 'pass': 624, 'passed': 625, 'past': 626, 'patients': 627, 'paul': 628, 'peace': 629, 'people': 630, 'perfect': 631, 'performance': 632, 'period': 633, 'person': 634, 'personal': 635, 'peter': 636, 'phone': 637, 'physical': 638, 'pick': 639, 'picture': 640, 'pittsburgh': 641, 'place': 642, 'places': 643, 'plan': 644, 'play': 645, 'played': 646, 'player': 647, 'players': 648, 'playing': 649, 'plus': 650, 'point': 651, 'points': 652, 'police': 653, 'policy': 654, 'political': 655, 'poor': 656, 'population': 657, 'port': 658, 'position': 659, 'possible': 660, 'possibly': 661, 'post': 662, 'posted': 663, 'posting': 664, 'posts': 665, 'postscript': 666, 'power': 667, 'practice': 668, 'present': 669, 'president': 670, 'press': 671, 'pretty': 672, 'prevent': 673, 'previous': 674, 'price': 675, 'print': 676, 'printer': 677, 'privacy': 678, 'private': 679, 'probably': 680, 'problem': 681, 'problems': 682, 'process': 683, 'processing': 684, 'produce': 685, 'product': 686, 'products': 687, 'program': 688, 'programming': 689, 'programs': 690, 'project': 691, 'protect': 692, 'protection': 693, 'prove': 694, 'provide': 695, 'provided': 696, 'provides': 697, 'public': 698, 'published': 699, 'purpose': 700, 'quality': 701, 'question': 702, 'questions': 703, 'quote': 704, 'radio': 705, 'range': 706, 'rate': 707, 'rates': 708, 'read': 709, 'reading': 710, 'real': 711, 'reality': 712, 'realize': 713, 'reason': 714, 'reasonable': 715, 'reasons': 716, 'receive': 717, 'received': 718, 'recent': 719, 'recently': 720, 'record': 721, 'reference': 722, 'references': 723, 'regular': 724, 'related': 725, 'release': 726, 'religion': 727, 'religious': 728, 'remember': 729, 'remote': 730, 'reply': 731, 'report': 732, 'reported': 733, 'reports': 734, 'request': 735, 'require': 736, 'required': 737, 'requires': 738, 'research': 739, 'resource': 740, 'resources': 741, 'respect': 742, 'response': 743, 'rest': 744, 'result': 745, 'results': 746, 'return': 747, 'right': 748, 'rights': 749, 'risk': 750, 'road': 751, 'robert': 752, 'room': 753, 'round': 754, 'rule': 755, 'rules': 756, 'running': 757, 'runs': 758, 'russia': 759, 'russian': 760, 'safe': 761, 'safety': 762, 'said': 763, 'sale': 764, 'satellite': 765, 'save': 766, 'saying': 767, 'says': 768, 'school': 769, 'science': 770, 'scientific': 771, 'screen': 772, 'scsi': 773, 'search': 774, 'season': 775, 'second': 776, 'secret': 777, 'section': 778, 'secure': 779, 'security': 780, 'seen': 781, 'self': 782, 'sell': 783, 'send': 784, 'sense': 785, 'sent': 786, 'serial': 787, 'series': 788, 'seriously': 789, 'server': 790, 'service': 791, 'services': 792, 'setting': 793, 'shall': 794, 'shipping': 795, 'short': 796, 'shot': 797, 'shouldn': 798, 'shows': 799, 'shuttle': 800, 'signal': 801, 'similar': 802, 'simple': 803, 'simply': 804, 'single': 805, 'site': 806, 'sites': 807, 'situation': 808, 'size': 809, 'slow': 810, 'small': 811, 'smith': 812, 'social': 813, 'society': 814, 'software': 815, 'sold': 816, 'soldiers': 817, 'solution': 818, 'somebody': 819, 'soon': 820, 'sorry': 821, 'sort': 822, 'sound': 823, 'sounds': 824, 'source': 825, 'sources': 826, 'south': 827, 'soviet': 828, 'space': 829, 'speak': 830, 'special': 831, 'specific': 832, 'specifically': 833, 'speed': 834, 'spirit': 835, 'stand': 836, 'standard': 837, 'standards': 838, 'start': 839, 'started': 840, 'starting': 841, 'state': 842, 'stated': 843, 'statement': 844, 'states': 845, 'station': 846, 'stay': 847, 'step': 848, 'stephanopoulos': 849, 'steve': 850, 'stop': 851, 'story': 852, 'stream': 853, 'street': 854, 'strong': 855, 'studies': 856, 'study': 857, 'stuff': 858, 'stupid': 859, 'subject': 860, 'suggest': 861, 'suggestions': 862, 'summer': 863, 'supply': 864, 'support': 865, 'supported': 866, 'supports': 867, 'suppose': 868, 'supposed': 869, 'sure': 870, 'surface': 871, 'suspect': 872, 'switch': 873, 'systems': 874, 'table': 875, 'taken': 876, 'takes': 877, 'taking': 878, 'talk': 879, 'talking': 880, 'tape': 881, 'team': 882, 'teams': 883, 'technical': 884, 'technology': 885, 'tell': 886, 'term': 887, 'terms': 888, 'test': 889, 'text': 890, 'thank': 891, 'thanks': 892, 'theory': 893, 'thing': 894, 'things': 895, 'think': 896, 'thinking': 897, 'thought': 898, 'time': 899, 'times': 900, 'title': 901, 'today': 902, 'told': 903, 'took': 904, 'tools': 905, 'toronto': 906, 'total': 907, 'town': 908, 'trade': 909, 'traffic': 910, 'transfer': 911, 'tried': 912, 'trouble': 913, 'true': 914, 'trust': 915, 'truth': 916, 'trying': 917, 'turkey': 918, 'turkish': 919, 'turks': 920, 'turn': 921, 'turned': 922, 'type': 923, 'types': 924, 'understand': 925, 'understanding': 926, 'unfortunately': 927, 'unit': 928, 'united': 929, 'universe': 930, 'university': 931, 'unix': 932, 'useful': 933, 'usenet': 934, 'user': 935, 'users': 936, 'uses': 937, 'usually': 938, 'valid': 939, 'value': 940, 'values': 941, 'vancouver': 942, 'vehicle': 943, 'version': 944, 'versions': 945, 'video': 946, 'view': 947, 'voice': 948, 'volume': 949, 'wait': 950, 'want': 951, 'wanted': 952, 'wants': 953, 'washington': 954, 'wasn': 955, 'watch': 956, 'water': 957, 'ways': 958, 'weapon': 959, 'weapons': 960, 'week': 961, 'weeks': 962, 'went': 963, 'west': 964, 'western': 965, 'white': 966, 'wide': 967, 'widget': 968, 'wife': 969, 'willing': 970, 'window': 971, 'windows': 972, 'wire': 973, 'wish': 974, 'woman': 975, 'women': 976, 'wonder': 977, 'wondering': 978, 'word': 979, 'words': 980, 'work': 981, 'worked': 982, 'working': 983, 'works': 984, 'world': 985, 'worse': 986, 'worth': 987, 'wouldn': 988, 'write': 989, 'writing': 990, 'written': 991, 'wrong': 992, 'wrote': 993, 'xterm': 994, 'yeah': 995, 'year': 996, 'years': 997, 'york': 998, 'young': 999}\n"
          ]
        }
      ]
    },
    {
      "cell_type": "code",
      "source": [
        "idx_kata = dict(map(reversed, vsm.vocabulary_.items()))\n",
        "Label = [idx_kata[i] for i in range(A.shape[0])]\n",
        "print(Label)"
      ],
      "metadata": {
        "colab": {
          "base_uri": "https://localhost:8080/"
        },
        "id": "n3MzBQssnPSm",
        "outputId": "3a8de705-5709-46f8-cd7d-2e02b3f6e5ac"
      },
      "execution_count": null,
      "outputs": [
        {
          "output_type": "stream",
          "name": "stdout",
          "text": [
            "['ability', 'able', 'accept', 'access', 'according', 'account', 'action', 'actions', 'actual', 'actually', 'added', 'addition', 'additional', 'address', 'administration', 'advance', 'advice', 'agencies', 'agree', 'algorithm', 'allow', 'allowed', 'allows', 'amendment', 'america', 'american', 'americans', 'analysis', 'angeles', 'anonymous', 'answer', 'answers', 'anti', 'anybody', 'apparently', 'appear', 'appears', 'apple', 'application', 'applications', 'apply', 'appreciate', 'appreciated', 'approach', 'appropriate', 'april', 'arab', 'archive', 'area', 'areas', 'aren', 'argument', 'arguments', 'armenia', 'armenian', 'armenians', 'arms', 'army', 'article', 'articles', 'asked', 'asking', 'assume', 'assuming', 'atheism', 'atheists', 'attack', 'attempt', 'author', 'authority', 'available', 'average', 'avoid', 'away', 'background', 'base', 'baseball', 'based', 'basic', 'basically', 'basis', 'begin', 'beginning', 'belief', 'beliefs', 'believe', 'best', 'better', 'bible', 'bike', 'bios', 'bits', 'black', 'block', 'blood', 'blue', 'board', 'body', 'book', 'books', 'boston', 'bought', 'break', 'bring', 'brought', 'build', 'building', 'built', 'business', 'cable', 'california', 'called', 'calling', 'calls', 'came', 'canada', 'card', 'cards', 'care', 'carry', 'cars', 'case', 'cases', 'cause', 'center', 'certain', 'certainly', 'chance', 'change', 'changed', 'changes', 'char', 'character', 'cheap', 'check', 'chicago', 'child', 'children', 'chip', 'chips', 'choice', 'choose', 'christ', 'christian', 'christianity', 'christians', 'church', 'citizens', 'city', 'civil', 'claim', 'claims', 'class', 'clear', 'clearly', 'clinton', 'clipper', 'clock', 'close', 'code', 'color', 'colorado', 'colors', 'come', 'comes', 'coming', 'command', 'comment', 'comments', 'commercial', 'committee', 'common', 'communications', 'community', 'comp', 'companies', 'company', 'compatible', 'complete', 'completely', 'computer', 'conclusion', 'condition', 'conference', 'congress', 'consider', 'considered', 'considering', 'contact', 'contains', 'context', 'continue', 'contrib', 'control', 'controller', 'convert', 'copies', 'copy', 'correct', 'cost', 'costs', 'couldn', 'count', 'countries', 'country', 'couple', 'course', 'court', 'cover', 'create', 'created', 'crime', 'criminals', 'cross', 'current', 'currently', 'data', 'date', 'dave', 'david', 'days', 'dead', 'deal', 'death', 'decided', 'decision', 'default', 'defense', 'define', 'deleted', 'department', 'described', 'description', 'design', 'designed', 'details', 'detroit', 'developed', 'development', 'device', 'devices', 'didn', 'died', 'difference', 'different', 'difficult', 'digital', 'direct', 'directly', 'directory', 'discussion', 'disease', 'disk', 'disks', 'display', 'distribution', 'division', 'doctor', 'doesn', 'door', 'double', 'doubt', 'draw', 'drive', 'driver', 'drivers', 'drives', 'driving', 'drug', 'drugs', 'earlier', 'early', 'earth', 'easily', 'east', 'easy', 'education', 'effect', 'effective', 'effort', 'electronic', 'email', 'encryption', 'energy', 'enforcement', 'engine', 'entire', 'entry', 'environment', 'equipment', 'error', 'errors', 'escrow', 'especially', 'europe', 'event', 'events', 'evidence', 'exactly', 'example', 'excellent', 'exist', 'existence', 'exists', 'expect', 'expected', 'expensive', 'experience', 'explain', 'export', 'extra', 'face', 'fact', 'fairly', 'faith', 'fall', 'false', 'family', 'fast', 'faster', 'father', 'features', 'federal', 'feel', 'field', 'figure', 'file', 'files', 'final', 'finally', 'fine', 'firearms', 'floppy', 'folks', 'follow', 'following', 'font', 'fonts', 'food', 'force', 'forget', 'form', 'format', 'forward', 'free', 'freedom', 'friend', 'friends', 'fully', 'function', 'functions', 'future', 'game', 'games', 'gave', 'general', 'generally', 'genocide', 'germany', 'gets', 'getting', 'given', 'gives', 'giving', 'goal', 'goals', 'goes', 'going', 'gone', 'good', 'government', 'graphics', 'great', 'greatly', 'greek', 'ground', 'group', 'groups', 'guess', 'guns', 'guys', 'half', 'hand', 'handle', 'hands', 'happen', 'happened', 'happens', 'happy', 'hard', 'hardware', 'haven', 'having', 'head', 'health', 'hear', 'heard', 'held', 'hell', 'hello', 'help', 'high', 'higher', 'history', 'hockey', 'hold', 'holy', 'home', 'hope', 'hours', 'house', 'human', 'idea', 'ideas', 'image', 'images', 'imagine', 'important', 'include', 'included', 'includes', 'including', 'increase', 'independent', 'individual', 'info', 'information', 'input', 'inside', 'installed', 'instead', 'institute', 'insurance', 'intended', 'interested', 'interesting', 'interface', 'internal', 'international', 'internet', 'involved', 'israel', 'israeli', 'issue', 'issues', 'james', 'jesus', 'jewish', 'jews', 'jobs', 'john', 'jpeg', 'kept', 'keyboard', 'keys', 'kill', 'killed', 'killing', 'kind', 'king', 'knew', 'know', 'knowledge', 'known', 'knows', 'lack', 'land', 'language', 'large', 'late', 'later', 'latest', 'launch', 'laws', 'lead', 'league', 'learn', 'leave', 'left', 'legal', 'letter', 'level', 'library', 'license', 'life', 'light', 'like', 'likely', 'limited', 'line', 'lines', 'list', 'little', 'live', 'lives', 'living', 'local', 'logic', 'long', 'longer', 'look', 'looked', 'looking', 'looks', 'lord', 'lost', 'lots', 'love', 'lower', 'lunar', 'machine', 'machines', 'magazine', 'mail', 'mailing', 'main', 'major', 'majority', 'makes', 'making', 'manager', 'manual', 'march', 'mark', 'market', 'mass', 'master', 'material', 'matter', 'matthew', 'maybe', 'mean', 'meaning', 'means', 'media', 'medical', 'member', 'members', 'memory', 'mention', 'mentioned', 'message', 'messages', 'method', 'michael', 'middle', 'mike', 'miles', 'military', 'million', 'mind', 'minutes', 'misc', 'mission', 'mode', 'model', 'models', 'modem', 'modern', 'money', 'monitor', 'month', 'months', 'moon', 'moral', 'morning', 'mother', 'motif', 'mouse', 'multi', 'multiple', 'muslim', 'names', 'nasa', 'national', 'natural', 'nature', 'near', 'necessary', 'need', 'needed', 'needs', 'network', 'news', 'newsgroup', 'nice', 'night', 'normal', 'north', 'note', 'nuclear', 'null', 'number', 'numbers', 'object', 'objective', 'obvious', 'obviously', 'offer', 'offers', 'office', 'official', 'ones', 'open', 'operation', 'opinion', 'opinions', 'option', 'options', 'orbit', 'order', 'organization', 'original', 'output', 'outside', 'package', 'page', 'paid', 'pain', 'paper', 'particular', 'particularly', 'parts', 'party', 'pass', 'passed', 'past', 'patients', 'paul', 'peace', 'people', 'perfect', 'performance', 'period', 'person', 'personal', 'peter', 'phone', 'physical', 'pick', 'picture', 'pittsburgh', 'place', 'places', 'plan', 'play', 'played', 'player', 'players', 'playing', 'plus', 'point', 'points', 'police', 'policy', 'political', 'poor', 'population', 'port', 'position', 'possible', 'possibly', 'post', 'posted', 'posting', 'posts', 'postscript', 'power', 'practice', 'present', 'president', 'press', 'pretty', 'prevent', 'previous', 'price', 'print', 'printer', 'privacy', 'private', 'probably', 'problem', 'problems', 'process', 'processing', 'produce', 'product', 'products', 'program', 'programming', 'programs', 'project', 'protect', 'protection', 'prove', 'provide', 'provided', 'provides', 'public', 'published', 'purpose', 'quality', 'question', 'questions', 'quote', 'radio', 'range', 'rate', 'rates', 'read', 'reading', 'real', 'reality', 'realize', 'reason', 'reasonable', 'reasons', 'receive', 'received', 'recent', 'recently', 'record', 'reference', 'references', 'regular', 'related', 'release', 'religion', 'religious', 'remember', 'remote', 'reply', 'report', 'reported', 'reports', 'request', 'require', 'required', 'requires', 'research', 'resource', 'resources', 'respect', 'response', 'rest', 'result', 'results', 'return', 'right', 'rights', 'risk', 'road', 'robert', 'room', 'round', 'rule', 'rules', 'running', 'runs', 'russia', 'russian', 'safe', 'safety', 'said', 'sale', 'satellite', 'save', 'saying', 'says', 'school', 'science', 'scientific', 'screen', 'scsi', 'search', 'season', 'second', 'secret', 'section', 'secure', 'security', 'seen', 'self', 'sell', 'send', 'sense', 'sent', 'serial', 'series', 'seriously', 'server', 'service', 'services', 'setting', 'shall', 'shipping', 'short', 'shot', 'shouldn', 'shows', 'shuttle', 'signal', 'similar', 'simple', 'simply', 'single', 'site', 'sites', 'situation', 'size', 'slow', 'small', 'smith', 'social', 'society', 'software', 'sold', 'soldiers', 'solution', 'somebody', 'soon', 'sorry', 'sort', 'sound', 'sounds', 'source', 'sources', 'south', 'soviet', 'space', 'speak', 'special', 'specific', 'specifically', 'speed', 'spirit', 'stand', 'standard', 'standards', 'start', 'started', 'starting', 'state', 'stated', 'statement', 'states', 'station', 'stay', 'step', 'stephanopoulos', 'steve', 'stop', 'story', 'stream', 'street', 'strong', 'studies', 'study', 'stuff', 'stupid', 'subject', 'suggest', 'suggestions', 'summer', 'supply', 'support', 'supported', 'supports', 'suppose', 'supposed', 'sure', 'surface', 'suspect', 'switch', 'systems', 'table', 'taken', 'takes', 'taking', 'talk', 'talking', 'tape', 'team', 'teams', 'technical', 'technology', 'tell', 'term', 'terms', 'test', 'text', 'thank', 'thanks', 'theory', 'thing', 'things', 'think', 'thinking', 'thought', 'time', 'times', 'title', 'today', 'told', 'took', 'tools', 'toronto', 'total', 'town', 'trade', 'traffic', 'transfer', 'tried', 'trouble', 'true', 'trust', 'truth', 'trying', 'turkey', 'turkish', 'turks', 'turn', 'turned', 'type', 'types', 'understand', 'understanding', 'unfortunately', 'unit', 'united', 'universe', 'university', 'unix', 'useful', 'usenet', 'user', 'users', 'uses', 'usually', 'valid', 'value', 'values', 'vancouver', 'vehicle', 'version', 'versions', 'video', 'view', 'voice', 'volume', 'wait', 'want', 'wanted', 'wants', 'washington', 'wasn', 'watch', 'water', 'ways', 'weapon', 'weapons', 'week', 'weeks', 'went', 'west', 'western', 'white', 'wide', 'widget', 'wife', 'willing', 'window', 'windows', 'wire', 'wish', 'woman', 'women', 'wonder', 'wondering', 'word', 'words', 'work', 'worked', 'working', 'works', 'world', 'worse', 'worth', 'wouldn', 'write', 'writing', 'written', 'wrong', 'wrote', 'xterm', 'yeah', 'year', 'years', 'york', 'young']\n"
          ]
        }
      ]
    },
    {
      "cell_type": "code",
      "source": [
        "import matplotlib.pyplot as plt\n",
        "fig, ax = plt.subplots()\n",
        "ax.scatter(x_kata, y_kata, c=['b']*len(x_kata))\n",
        "for i, L in enumerate(Label):\n",
        "    ax.annotate(L, (x_kata[i],y_kata[i]))"
      ],
      "metadata": {
        "id": "z23pDBKvnVai",
        "colab": {
          "base_uri": "https://localhost:8080/",
          "height": 265
        },
        "outputId": "ae84f1d1-b3bf-4658-a98b-b85396609254"
      },
      "execution_count": null,
      "outputs": [
        {
          "output_type": "display_data",
          "data": {
            "text/plain": [
              "<Figure size 432x288 with 1 Axes>"
            ],
            "image/png": "[encoded data removed]"
          },
          "metadata": {}
        }
      ]
    },
    {
      "cell_type": "code",
      "source": [
        "# Mari kita gabungkan plot Kata dan Dokumen\n",
        "x_judul = U[:,0] # Kolom pertama matrix U = sumbu x judul\n",
        "y_judul = U[:,1] # Kolom kedua matrix U = sumbu y judul\n",
        "\n",
        "Label_judul = ['d1','d2','d3','d4','d5','d6','d7','d8','d9']\n",
        "\n",
        "# Saatnya kita plot\n",
        "# Mulai dari \"Words\" terlebih dahulu dengan warna biru \"b\"\n",
        "fig, ax = plt.subplots()\n",
        "ax.scatter(x_kata, y_kata, c=['b']*len(x_kata))\n",
        "for i, L in enumerate(Label):\n",
        "    ax.annotate(L, (x_kata[i],y_kata[i]))\n",
        "    \n",
        "# Lalu judul (dokumen) dengan warna Merah \"r\"\n",
        "ax.scatter(x_judul, y_judul, c=['r']*len(x_judul))\n",
        "for i, L in enumerate(Label_judul):\n",
        "    ax.annotate(L, (x_judul[i],y_judul[i]))\n",
        "# Analisa Plotnya .... misal perhatikan kata \"dummies\""
      ],
      "metadata": {
        "id": "5qyVWntSATlE"
      },
      "execution_count": null,
      "outputs": []
    },
    {
      "cell_type": "code",
      "source": [
        "from sklearn.manifold import TSNE\n",
        "embedding = TSNE(n_components=2).fit_transform()"
      ],
      "metadata": {
        "colab": {
          "base_uri": "https://localhost:8080/",
          "height": 183
        },
        "id": "f6VyVXed8dXm",
        "outputId": "551b05ab-29e3-4031-e82e-07b8df3eec9b"
      },
      "execution_count": null,
      "outputs": [
        {
          "output_type": "error",
          "ename": "NameError",
          "evalue": "ignored",
          "traceback": [
            "\u001b[0;31m---------------------------------------------------------------------------\u001b[0m",
            "\u001b[0;31mNameError\u001b[0m                                 Traceback (most recent call last)",
            "\u001b[0;32m<ipython-input-40-23570cf6c8d7>\u001b[0m in \u001b[0;36m<module>\u001b[0;34m\u001b[0m\n\u001b[1;32m      1\u001b[0m \u001b[0;32mfrom\u001b[0m \u001b[0msklearn\u001b[0m\u001b[0;34m.\u001b[0m\u001b[0mmanifold\u001b[0m \u001b[0;32mimport\u001b[0m \u001b[0mTSNE\u001b[0m\u001b[0;34m\u001b[0m\u001b[0;34m\u001b[0m\u001b[0m\n\u001b[0;32m----> 2\u001b[0;31m \u001b[0membedding\u001b[0m \u001b[0;34m=\u001b[0m \u001b[0mTSNE\u001b[0m\u001b[0;34m(\u001b[0m\u001b[0mn_components\u001b[0m\u001b[0;34m=\u001b[0m\u001b[0;36m2\u001b[0m\u001b[0;34m)\u001b[0m\u001b[0;34m.\u001b[0m\u001b[0mfit_transform\u001b[0m\u001b[0;34m(\u001b[0m\u001b[0mc\u001b[0m\u001b[0;34m)\u001b[0m\u001b[0;34m\u001b[0m\u001b[0;34m\u001b[0m\u001b[0m\n\u001b[0m",
            "\u001b[0;31mNameError\u001b[0m: name 'c' is not defined"
          ]
        }
      ]
    },
    {
      "cell_type": "code",
      "source": [
        "plt.figure(figsize=(7,5))\n",
        "plt.scatter(embedding[:, 0], embedding[:, 1], \n",
        "c = dataset.target,\n",
        "s = 10, # size\n",
        "edgecolor='none'\n",
        ")\n",
        "plt.show()"
      ],
      "metadata": {
        "id": "YO8zA1pjMoFf",
        "colab": {
          "base_uri": "https://localhost:8080/",
          "height": 739
        },
        "outputId": "9e951e02-cbaa-49e4-f44c-f696343ef690"
      },
      "execution_count": null,
      "outputs": [
        {
          "output_type": "error",
          "ename": "ValueError",
          "evalue": "ignored",
          "traceback": [
            "\u001b[0;31m---------------------------------------------------------------------------\u001b[0m",
            "\u001b[0;31mValueError\u001b[0m                                Traceback (most recent call last)",
            "\u001b[0;32m/usr/local/lib/python3.7/dist-packages/matplotlib/axes/_axes.py\u001b[0m in \u001b[0;36m_parse_scatter_color_args\u001b[0;34m(c, edgecolors, kwargs, xsize, get_next_color_func)\u001b[0m\n\u001b[1;32m   4238\u001b[0m             \u001b[0;32mtry\u001b[0m\u001b[0;34m:\u001b[0m  \u001b[0;31m# Is 'c' acceptable as PathCollection facecolors?\u001b[0m\u001b[0;34m\u001b[0m\u001b[0;34m\u001b[0m\u001b[0m\n\u001b[0;32m-> 4239\u001b[0;31m                 \u001b[0mcolors\u001b[0m \u001b[0;34m=\u001b[0m \u001b[0mmcolors\u001b[0m\u001b[0;34m.\u001b[0m\u001b[0mto_rgba_array\u001b[0m\u001b[0;34m(\u001b[0m\u001b[0mc\u001b[0m\u001b[0;34m)\u001b[0m\u001b[0;34m\u001b[0m\u001b[0;34m\u001b[0m\u001b[0m\n\u001b[0m\u001b[1;32m   4240\u001b[0m             \u001b[0;32mexcept\u001b[0m \u001b[0mValueError\u001b[0m\u001b[0;34m:\u001b[0m\u001b[0;34m\u001b[0m\u001b[0;34m\u001b[0m\u001b[0m\n",
            "\u001b[0;32m/usr/local/lib/python3.7/dist-packages/matplotlib/colors.py\u001b[0m in \u001b[0;36mto_rgba_array\u001b[0;34m(c, alpha)\u001b[0m\n\u001b[1;32m    339\u001b[0m     \u001b[0;32melse\u001b[0m\u001b[0;34m:\u001b[0m\u001b[0;34m\u001b[0m\u001b[0;34m\u001b[0m\u001b[0m\n\u001b[0;32m--> 340\u001b[0;31m         \u001b[0;32mreturn\u001b[0m \u001b[0mnp\u001b[0m\u001b[0;34m.\u001b[0m\u001b[0marray\u001b[0m\u001b[0;34m(\u001b[0m\u001b[0;34m[\u001b[0m\u001b[0mto_rgba\u001b[0m\u001b[0;34m(\u001b[0m\u001b[0mcc\u001b[0m\u001b[0;34m,\u001b[0m \u001b[0malpha\u001b[0m\u001b[0;34m)\u001b[0m \u001b[0;32mfor\u001b[0m \u001b[0mcc\u001b[0m \u001b[0;32min\u001b[0m \u001b[0mc\u001b[0m\u001b[0;34m]\u001b[0m\u001b[0;34m)\u001b[0m\u001b[0;34m\u001b[0m\u001b[0;34m\u001b[0m\u001b[0m\n\u001b[0m\u001b[1;32m    341\u001b[0m \u001b[0;34m\u001b[0m\u001b[0m\n",
            "\u001b[0;32m/usr/local/lib/python3.7/dist-packages/matplotlib/colors.py\u001b[0m in \u001b[0;36m<listcomp>\u001b[0;34m(.0)\u001b[0m\n\u001b[1;32m    339\u001b[0m     \u001b[0;32melse\u001b[0m\u001b[0;34m:\u001b[0m\u001b[0;34m\u001b[0m\u001b[0;34m\u001b[0m\u001b[0m\n\u001b[0;32m--> 340\u001b[0;31m         \u001b[0;32mreturn\u001b[0m \u001b[0mnp\u001b[0m\u001b[0;34m.\u001b[0m\u001b[0marray\u001b[0m\u001b[0;34m(\u001b[0m\u001b[0;34m[\u001b[0m\u001b[0mto_rgba\u001b[0m\u001b[0;34m(\u001b[0m\u001b[0mcc\u001b[0m\u001b[0;34m,\u001b[0m \u001b[0malpha\u001b[0m\u001b[0;34m)\u001b[0m \u001b[0;32mfor\u001b[0m \u001b[0mcc\u001b[0m \u001b[0;32min\u001b[0m \u001b[0mc\u001b[0m\u001b[0;34m]\u001b[0m\u001b[0;34m)\u001b[0m\u001b[0;34m\u001b[0m\u001b[0;34m\u001b[0m\u001b[0m\n\u001b[0m\u001b[1;32m    341\u001b[0m \u001b[0;34m\u001b[0m\u001b[0m\n",
            "\u001b[0;32m/usr/local/lib/python3.7/dist-packages/matplotlib/colors.py\u001b[0m in \u001b[0;36mto_rgba\u001b[0;34m(c, alpha)\u001b[0m\n\u001b[1;32m    184\u001b[0m     \u001b[0;32mif\u001b[0m \u001b[0mrgba\u001b[0m \u001b[0;32mis\u001b[0m \u001b[0;32mNone\u001b[0m\u001b[0;34m:\u001b[0m  \u001b[0;31m# Suppress exception chaining of cache lookup failure.\u001b[0m\u001b[0;34m\u001b[0m\u001b[0;34m\u001b[0m\u001b[0m\n\u001b[0;32m--> 185\u001b[0;31m         \u001b[0mrgba\u001b[0m \u001b[0;34m=\u001b[0m \u001b[0m_to_rgba_no_colorcycle\u001b[0m\u001b[0;34m(\u001b[0m\u001b[0mc\u001b[0m\u001b[0;34m,\u001b[0m \u001b[0malpha\u001b[0m\u001b[0;34m)\u001b[0m\u001b[0;34m\u001b[0m\u001b[0;34m\u001b[0m\u001b[0m\n\u001b[0m\u001b[1;32m    186\u001b[0m         \u001b[0;32mtry\u001b[0m\u001b[0;34m:\u001b[0m\u001b[0;34m\u001b[0m\u001b[0;34m\u001b[0m\u001b[0m\n",
            "\u001b[0;32m/usr/local/lib/python3.7/dist-packages/matplotlib/colors.py\u001b[0m in \u001b[0;36m_to_rgba_no_colorcycle\u001b[0;34m(c, alpha)\u001b[0m\n\u001b[1;32m    267\u001b[0m         \u001b[0;31m# Test dimensionality to reject single floats.\u001b[0m\u001b[0;34m\u001b[0m\u001b[0;34m\u001b[0m\u001b[0;34m\u001b[0m\u001b[0m\n\u001b[0;32m--> 268\u001b[0;31m         \u001b[0;32mraise\u001b[0m \u001b[0mValueError\u001b[0m\u001b[0;34m(\u001b[0m\u001b[0;34mf\"Invalid RGBA argument: {orig_c!r}\"\u001b[0m\u001b[0;34m)\u001b[0m\u001b[0;34m\u001b[0m\u001b[0;34m\u001b[0m\u001b[0m\n\u001b[0m\u001b[1;32m    269\u001b[0m     \u001b[0;31m# Return a tuple to prevent the cached value from being modified.\u001b[0m\u001b[0;34m\u001b[0m\u001b[0;34m\u001b[0m\u001b[0;34m\u001b[0m\u001b[0m\n",
            "\u001b[0;31mValueError\u001b[0m: Invalid RGBA argument: 17.0",
            "\nDuring handling of the above exception, another exception occurred:\n",
            "\u001b[0;31mValueError\u001b[0m                                Traceback (most recent call last)",
            "\u001b[0;32m<ipython-input-36-448a8ad2f028>\u001b[0m in \u001b[0;36m<module>\u001b[0;34m\u001b[0m\n\u001b[1;32m      3\u001b[0m \u001b[0mc\u001b[0m \u001b[0;34m=\u001b[0m \u001b[0mdataset\u001b[0m\u001b[0;34m.\u001b[0m\u001b[0mtarget\u001b[0m\u001b[0;34m,\u001b[0m\u001b[0;34m\u001b[0m\u001b[0;34m\u001b[0m\u001b[0m\n\u001b[1;32m      4\u001b[0m \u001b[0ms\u001b[0m \u001b[0;34m=\u001b[0m \u001b[0;36m10\u001b[0m\u001b[0;34m,\u001b[0m \u001b[0;31m# size\u001b[0m\u001b[0;34m\u001b[0m\u001b[0;34m\u001b[0m\u001b[0m\n\u001b[0;32m----> 5\u001b[0;31m \u001b[0medgecolor\u001b[0m\u001b[0;34m=\u001b[0m\u001b[0;34m'none'\u001b[0m\u001b[0;34m\u001b[0m\u001b[0;34m\u001b[0m\u001b[0m\n\u001b[0m\u001b[1;32m      6\u001b[0m )\n\u001b[1;32m      7\u001b[0m \u001b[0mplt\u001b[0m\u001b[0;34m.\u001b[0m\u001b[0mshow\u001b[0m\u001b[0;34m(\u001b[0m\u001b[0;34m)\u001b[0m\u001b[0;34m\u001b[0m\u001b[0;34m\u001b[0m\u001b[0m\n",
            "\u001b[0;32m/usr/local/lib/python3.7/dist-packages/matplotlib/pyplot.py\u001b[0m in \u001b[0;36mscatter\u001b[0;34m(x, y, s, c, marker, cmap, norm, vmin, vmax, alpha, linewidths, verts, edgecolors, plotnonfinite, data, **kwargs)\u001b[0m\n\u001b[1;32m   2814\u001b[0m         \u001b[0mverts\u001b[0m\u001b[0;34m=\u001b[0m\u001b[0mverts\u001b[0m\u001b[0;34m,\u001b[0m \u001b[0medgecolors\u001b[0m\u001b[0;34m=\u001b[0m\u001b[0medgecolors\u001b[0m\u001b[0;34m,\u001b[0m\u001b[0;34m\u001b[0m\u001b[0;34m\u001b[0m\u001b[0m\n\u001b[1;32m   2815\u001b[0m         plotnonfinite=plotnonfinite, **({\"data\": data} if data is not\n\u001b[0;32m-> 2816\u001b[0;31m         None else {}), **kwargs)\n\u001b[0m\u001b[1;32m   2817\u001b[0m     \u001b[0msci\u001b[0m\u001b[0;34m(\u001b[0m\u001b[0m__ret\u001b[0m\u001b[0;34m)\u001b[0m\u001b[0;34m\u001b[0m\u001b[0;34m\u001b[0m\u001b[0m\n\u001b[1;32m   2818\u001b[0m     \u001b[0;32mreturn\u001b[0m \u001b[0m__ret\u001b[0m\u001b[0;34m\u001b[0m\u001b[0;34m\u001b[0m\u001b[0m\n",
            "\u001b[0;32m/usr/local/lib/python3.7/dist-packages/matplotlib/__init__.py\u001b[0m in \u001b[0;36minner\u001b[0;34m(ax, data, *args, **kwargs)\u001b[0m\n\u001b[1;32m   1563\u001b[0m     \u001b[0;32mdef\u001b[0m \u001b[0minner\u001b[0m\u001b[0;34m(\u001b[0m\u001b[0max\u001b[0m\u001b[0;34m,\u001b[0m \u001b[0;34m*\u001b[0m\u001b[0margs\u001b[0m\u001b[0;34m,\u001b[0m \u001b[0mdata\u001b[0m\u001b[0;34m=\u001b[0m\u001b[0;32mNone\u001b[0m\u001b[0;34m,\u001b[0m \u001b[0;34m**\u001b[0m\u001b[0mkwargs\u001b[0m\u001b[0;34m)\u001b[0m\u001b[0;34m:\u001b[0m\u001b[0;34m\u001b[0m\u001b[0;34m\u001b[0m\u001b[0m\n\u001b[1;32m   1564\u001b[0m         \u001b[0;32mif\u001b[0m \u001b[0mdata\u001b[0m \u001b[0;32mis\u001b[0m \u001b[0;32mNone\u001b[0m\u001b[0;34m:\u001b[0m\u001b[0;34m\u001b[0m\u001b[0;34m\u001b[0m\u001b[0m\n\u001b[0;32m-> 1565\u001b[0;31m             \u001b[0;32mreturn\u001b[0m \u001b[0mfunc\u001b[0m\u001b[0;34m(\u001b[0m\u001b[0max\u001b[0m\u001b[0;34m,\u001b[0m \u001b[0;34m*\u001b[0m\u001b[0mmap\u001b[0m\u001b[0;34m(\u001b[0m\u001b[0msanitize_sequence\u001b[0m\u001b[0;34m,\u001b[0m \u001b[0margs\u001b[0m\u001b[0;34m)\u001b[0m\u001b[0;34m,\u001b[0m \u001b[0;34m**\u001b[0m\u001b[0mkwargs\u001b[0m\u001b[0;34m)\u001b[0m\u001b[0;34m\u001b[0m\u001b[0;34m\u001b[0m\u001b[0m\n\u001b[0m\u001b[1;32m   1566\u001b[0m \u001b[0;34m\u001b[0m\u001b[0m\n\u001b[1;32m   1567\u001b[0m         \u001b[0mbound\u001b[0m \u001b[0;34m=\u001b[0m \u001b[0mnew_sig\u001b[0m\u001b[0;34m.\u001b[0m\u001b[0mbind\u001b[0m\u001b[0;34m(\u001b[0m\u001b[0max\u001b[0m\u001b[0;34m,\u001b[0m \u001b[0;34m*\u001b[0m\u001b[0margs\u001b[0m\u001b[0;34m,\u001b[0m \u001b[0;34m**\u001b[0m\u001b[0mkwargs\u001b[0m\u001b[0;34m)\u001b[0m\u001b[0;34m\u001b[0m\u001b[0;34m\u001b[0m\u001b[0m\n",
            "\u001b[0;32m/usr/local/lib/python3.7/dist-packages/matplotlib/cbook/deprecation.py\u001b[0m in \u001b[0;36mwrapper\u001b[0;34m(*args, **kwargs)\u001b[0m\n\u001b[1;32m    356\u001b[0m                 \u001b[0;34mf\"%(removal)s.  If any parameter follows {name!r}, they \"\u001b[0m\u001b[0;34m\u001b[0m\u001b[0;34m\u001b[0m\u001b[0m\n\u001b[1;32m    357\u001b[0m                 f\"should be pass as keyword, not positionally.\")\n\u001b[0;32m--> 358\u001b[0;31m         \u001b[0;32mreturn\u001b[0m \u001b[0mfunc\u001b[0m\u001b[0;34m(\u001b[0m\u001b[0;34m*\u001b[0m\u001b[0margs\u001b[0m\u001b[0;34m,\u001b[0m \u001b[0;34m**\u001b[0m\u001b[0mkwargs\u001b[0m\u001b[0;34m)\u001b[0m\u001b[0;34m\u001b[0m\u001b[0;34m\u001b[0m\u001b[0m\n\u001b[0m\u001b[1;32m    359\u001b[0m \u001b[0;34m\u001b[0m\u001b[0m\n\u001b[1;32m    360\u001b[0m     \u001b[0;32mreturn\u001b[0m \u001b[0mwrapper\u001b[0m\u001b[0;34m\u001b[0m\u001b[0;34m\u001b[0m\u001b[0m\n",
            "\u001b[0;32m/usr/local/lib/python3.7/dist-packages/matplotlib/axes/_axes.py\u001b[0m in \u001b[0;36mscatter\u001b[0;34m(self, x, y, s, c, marker, cmap, norm, vmin, vmax, alpha, linewidths, verts, edgecolors, plotnonfinite, **kwargs)\u001b[0m\n\u001b[1;32m   4401\u001b[0m             self._parse_scatter_color_args(\n\u001b[1;32m   4402\u001b[0m                 \u001b[0mc\u001b[0m\u001b[0;34m,\u001b[0m \u001b[0medgecolors\u001b[0m\u001b[0;34m,\u001b[0m \u001b[0mkwargs\u001b[0m\u001b[0;34m,\u001b[0m \u001b[0mx\u001b[0m\u001b[0;34m.\u001b[0m\u001b[0msize\u001b[0m\u001b[0;34m,\u001b[0m\u001b[0;34m\u001b[0m\u001b[0;34m\u001b[0m\u001b[0m\n\u001b[0;32m-> 4403\u001b[0;31m                 get_next_color_func=self._get_patches_for_fill.get_next_color)\n\u001b[0m\u001b[1;32m   4404\u001b[0m \u001b[0;34m\u001b[0m\u001b[0m\n\u001b[1;32m   4405\u001b[0m         \u001b[0;32mif\u001b[0m \u001b[0mplotnonfinite\u001b[0m \u001b[0;32mand\u001b[0m \u001b[0mcolors\u001b[0m \u001b[0;32mis\u001b[0m \u001b[0;32mNone\u001b[0m\u001b[0;34m:\u001b[0m\u001b[0;34m\u001b[0m\u001b[0;34m\u001b[0m\u001b[0m\n",
            "\u001b[0;32m/usr/local/lib/python3.7/dist-packages/matplotlib/axes/_axes.py\u001b[0m in \u001b[0;36m_parse_scatter_color_args\u001b[0;34m(c, edgecolors, kwargs, xsize, get_next_color_func)\u001b[0m\n\u001b[1;32m   4240\u001b[0m             \u001b[0;32mexcept\u001b[0m \u001b[0mValueError\u001b[0m\u001b[0;34m:\u001b[0m\u001b[0;34m\u001b[0m\u001b[0;34m\u001b[0m\u001b[0m\n\u001b[1;32m   4241\u001b[0m                 \u001b[0;32mif\u001b[0m \u001b[0;32mnot\u001b[0m \u001b[0mvalid_shape\u001b[0m\u001b[0;34m:\u001b[0m\u001b[0;34m\u001b[0m\u001b[0;34m\u001b[0m\u001b[0m\n\u001b[0;32m-> 4242\u001b[0;31m                     \u001b[0;32mraise\u001b[0m \u001b[0minvalid_shape_exception\u001b[0m\u001b[0;34m(\u001b[0m\u001b[0mc\u001b[0m\u001b[0;34m.\u001b[0m\u001b[0msize\u001b[0m\u001b[0;34m,\u001b[0m \u001b[0mxsize\u001b[0m\u001b[0;34m)\u001b[0m\u001b[0;34m\u001b[0m\u001b[0;34m\u001b[0m\u001b[0m\n\u001b[0m\u001b[1;32m   4243\u001b[0m                 \u001b[0;31m# Both the mapping *and* the RGBA conversion failed: pretty\u001b[0m\u001b[0;34m\u001b[0m\u001b[0;34m\u001b[0m\u001b[0;34m\u001b[0m\u001b[0m\n\u001b[1;32m   4244\u001b[0m                 \u001b[0;31m# severe failure => one may appreciate a verbose feedback.\u001b[0m\u001b[0;34m\u001b[0m\u001b[0;34m\u001b[0m\u001b[0;34m\u001b[0m\u001b[0m\n",
            "\u001b[0;31mValueError\u001b[0m: 'c' argument has 11314 elements, which is inconsistent with 'x' and 'y' with size 1000."
          ]
        },
        {
          "output_type": "display_data",
          "data": {
            "text/plain": [
              "<Figure size 504x360 with 1 Axes>"
            ],
            "image/png": "[encoded data removed]"
          },
          "metadata": {}
        }
      ]
    },
    {
      "cell_type": "code",
      "source": [],
      "metadata": {
        "id": "8qU5UOZz8CSU"
      },
      "execution_count": null,
      "outputs": []
    }
  ]
}